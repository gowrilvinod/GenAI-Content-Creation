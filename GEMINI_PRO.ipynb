{
  "cells": [
    {
      "cell_type": "markdown",
      "metadata": {
        "id": "view-in-github",
        "colab_type": "text"
      },
      "source": [
        "<a href=\"https://colab.research.google.com/github/gowrilvinod/GenAI-Content-Creation/blob/main/GEMINI_PRO.ipynb\" target=\"_parent\"><img src=\"https://colab.research.google.com/assets/colab-badge.svg\" alt=\"Open In Colab\"/></a>"
      ]
    },
    {
      "cell_type": "code",
      "execution_count": 29,
      "metadata": {
        "id": "7bHP71iKTmO3"
      },
      "outputs": [],
      "source": [
        "import os\n"
      ]
    },
    {
      "cell_type": "code",
      "source": [
        "\n",
        "\n",
        "\n",
        "api_key= os.environ.get(\"GOOGLE_API_KEY\")\n",
        "\n"
      ],
      "metadata": {
        "id": "fvqoPiTwA4Uv"
      },
      "execution_count": 40,
      "outputs": []
    },
    {
      "cell_type": "code",
      "execution_count": 31,
      "metadata": {
        "id": "MVh74iOJTxZn"
      },
      "outputs": [],
      "source": [
        "pip install -q -U google-generativeai\n"
      ]
    },
    {
      "cell_type": "code",
      "execution_count": 33,
      "metadata": {
        "id": "MAwEusp7T14W"
      },
      "outputs": [],
      "source": [
        "import google.generativeai as genai\n",
        "import os\n",
        "\n",
        "genai.configure(api_key=api_key)\n",
        "generation_config = {\n",
        "    \"temperature\": 0.9,\n",
        "    \"top_p\": 1,\n",
        "    \"top_k\": 1,\n",
        "    \"max_output_tokens\": 2048\n",
        "}\n",
        "\n",
        "\n"
      ]
    },
    {
      "cell_type": "code",
      "source": [
        "model = genai.GenerativeModel('gemini-pro', generation_config=generation_config)"
      ],
      "metadata": {
        "id": "rlRpB0lUBM18"
      },
      "execution_count": 34,
      "outputs": []
    },
    {
      "cell_type": "code",
      "source": [
        "model"
      ],
      "metadata": {
        "colab": {
          "base_uri": "https://localhost:8080/"
        },
        "id": "I2XgDx8QNWXV",
        "outputId": "d7489207-07ab-407e-9312-e3543aa1b9b2"
      },
      "execution_count": 36,
      "outputs": [
        {
          "output_type": "execute_result",
          "data": {
            "text/plain": [
              "genai.GenerativeModel(\n",
              "    model_name='models/gemini-pro',\n",
              "    generation_config={'temperature': 0.9, 'top_p': 1, 'top_k': 1, 'max_output_tokens': 2048},\n",
              "    safety_settings={},\n",
              "    tools=None,\n",
              "    system_instruction=None,\n",
              "    cached_content=None\n",
              ")"
            ]
          },
          "metadata": {},
          "execution_count": 36
        }
      ]
    },
    {
      "cell_type": "code",
      "execution_count": 35,
      "metadata": {
        "colab": {
          "base_uri": "https://localhost:8080/",
          "height": 714
        },
        "id": "DJeyeIXZT-AX",
        "outputId": "6eca89e3-b980-45ba-e581-064038889204"
      },
      "outputs": [
        {
          "output_type": "stream",
          "name": "stdout",
          "text": [
            "**Breakfast (7:00 AM)**\n",
            "\n",
            "* Oatmeal with berries and nuts (1 cup cooked oatmeal, 1/2 cup berries, 1/4 cup nuts)\n",
            "* Green tea\n",
            "\n",
            "**Mid-morning snack (10:00 AM)**\n",
            "\n",
            "* Banana with peanut butter (1 medium banana, 2 tablespoons peanut butter)\n",
            "\n",
            "**Lunch (12:00 PM)**\n",
            "\n",
            "* Grilled chicken salad with mixed greens, grilled vegetables, and low-fat dressing (4 ounces grilled chicken, 2 cups mixed greens, 1 cup grilled vegetables, 2 tablespoons low-fat dressing)\n",
            "* Whole-wheat bread (2 slices)\n",
            "\n",
            "**Afternoon snack (3:00 PM)**\n",
            "\n",
            "* Yogurt with fruit (1 cup plain yogurt, 1/2 cup fruit)\n",
            "\n",
            "**Dinner (6:00 PM)**\n",
            "\n",
            "* Salmon with roasted vegetables and quinoa (4 ounces grilled salmon, 1 cup roasted vegetables, 1/2 cup cooked quinoa)\n",
            "* Side of steamed broccoli (1 cup)\n",
            "\n",
            "**Evening snack (8:00 PM)**\n",
            "\n",
            "* Trail mix (1/4 cup nuts, 1/4 cup seeds, 1/4 cup dried fruit)\n",
            "\n",
            "**Hydration**\n",
            "\n",
            "* Drink plenty of water throughout the day, especially before and after meals and exercise.\n",
            "\n",
            "**Notes:**\n",
            "\n",
            "* This meal plan provides approximately 2,000 calories. Adjust portion sizes as needed based on individual calorie needs.\n",
            "* Choose lean protein sources such as chicken, fish, or beans.\n",
            "* Include plenty of fruits, vegetables, and whole grains.\n",
            "* Opt for low-fat or fat-free dairy products.\n",
            "* Limit processed foods, sugary drinks, and excessive saturated and unhealthy fats.\n",
            "* Listen to your body and eat when you're hungry, but stop when you're full.\n"
          ]
        }
      ],
      "source": [
        "response = model.generate_content(\"Create a meal plan for today\")\n",
        "print(response.text)"
      ]
    }
  ],
  "metadata": {
    "colab": {
      "provenance": [],
      "authorship_tag": "ABX9TyP4dvRYY+kKXqg5rJgPONEE",
      "include_colab_link": true
    },
    "kernelspec": {
      "display_name": "Python 3",
      "name": "python3"
    },
    "language_info": {
      "name": "python"
    }
  },
  "nbformat": 4,
  "nbformat_minor": 0
}